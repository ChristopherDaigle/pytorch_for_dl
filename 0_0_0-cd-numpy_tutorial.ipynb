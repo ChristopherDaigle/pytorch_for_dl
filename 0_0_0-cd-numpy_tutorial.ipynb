{
 "cells": [
  {
   "cell_type": "markdown",
   "id": "0837bc08-d0f7-478b-b8ed-f8ef198a122a",
   "metadata": {},
   "source": [
    "# Tutorial for [NumPy](https://numpy.org)\n",
    "\n",
    "Attribution: This tutorial was built from [Jose Portilla's instruction from Pierian Data](https://courses.pieriandata.com/bundles/zero-to-data-hero) as well as [official documentation from Numpy](https://numpy.org/about/)\n",
    "\n",
    "## <a id='toc'>Table of contents</a>\n",
    "\n",
    "[1: About](#1)\n",
    "\n",
    "[2: Arrays](#2)\n",
    "\n",
    "[3: Matrices](#3)"
   ]
  },
  {
   "cell_type": "markdown",
   "id": "56e68b44-a995-4c16-99dd-78f6bec23722",
   "metadata": {},
   "source": [
    "# <a id='1'>1: About</a>[▲](#toc)\n",
    "\n",
    "NumPy is an open source project aiming to enable numerical computing with Python. It was created in 2005, building on the early work of the Numeric and Numarray libraries. - [NumPy](https://numpy.org/about/)\n",
    "\n",
    "NumPy is a powerful linear algebra library for Python. What makes it so important is that almost all of the libraries in the <a href='https://pydata.org/'>PyData</a> ecosystem (pandas, scipy, scikit-learn, etc.) rely on NumPy as one of their main building blocks. Plus we will use it to generate data for our analysis examples later on!\n",
    "\n",
    "NumPy is also incredibly fast, as it has bindings to C libraries.[Pierian Data](http://www.pieriandata.com)"
   ]
  },
  {
   "cell_type": "markdown",
   "id": "1ee9662d-92bf-4c3f-ae15-766fd47ae3ed",
   "metadata": {},
   "source": [
    "# <a id='2'>2: Arrays</a>[▲](#toc)\n",
    "\n",
    "An array is a central data structure of the NumPy library. An array is a grid of values and it contains information about the raw data, how to locate an element, and how to interpret an element. It has a grid of elements that can be indexed in various ways. The elements are all of the same type, referred to as the array dtype.\n",
    "\n",
    "An array can be indexed by a tuple of nonnegative integers, by booleans, by another array, or by integers. The rank of the array is the number of dimensions. The shape of the array is a tuple of integers giving the size of the array along each dimension. - [NumPy](https://numpy.org/doc/stable/user/absolute_beginners.html#what-is-an-array)\n",
    "\n",
    "You might occasionally hear an array referred to as a **“ndarray”**, which is shorthand for **“N-dimensional array.”** An N-dimensional array is simply an array with any N number of dimensions. You might also hear 1-D, or one-dimensional array, 2-D, or two-dimensional array, and so on. The NumPy `ndarray` class is used to represent both matrices and vectors. A *vector is an array with a single dimension* (there’s no difference between row and column vectors), while a *matrix refers to an array with two dimensions*. For 3-D or higher dimensional arrays, the term **tensor** is also commonly used.\n",
    "\n",
    "What are the attributes of an array?\n",
    "\n",
    "An array is usually a fixed-size container of items of the same type and size. The number of dimensions and items in an array is defined by its shape. The shape of an array is a tuple of non-negative integers that specify the sizes of each dimension.\n",
    "\n",
    "In NumPy, dimensions are called axes. This means that if you have a 2D array that looks like this:\n",
    "```\n",
    "[[0., 0., 0.],\n",
    " [1., 1., 1.]]\n",
    " ```\n",
    "Your array has 2 axes. The first axis has a length of 2 and the second axis has a length of 3 (i.e. 2-by-3)."
   ]
  },
  {
   "cell_type": "code",
   "execution_count": 6,
   "id": "0277d545-fafb-437a-86ed-0fdc1764534e",
   "metadata": {},
   "outputs": [],
   "source": [
    "# Issues with auto-complete/intellisense can be solved by turning off use_jedi\n",
    "%config Completer.use_jedi = False"
   ]
  },
  {
   "cell_type": "code",
   "execution_count": 7,
   "id": "bd66ea3d-fb0a-480a-8faf-7427597ee056",
   "metadata": {},
   "outputs": [],
   "source": [
    "import numpy as np"
   ]
  },
  {
   "cell_type": "code",
   "execution_count": 8,
   "id": "18d4e93c-6272-4c9d-9df6-511d0f5b79cd",
   "metadata": {},
   "outputs": [
    {
     "name": "stdout",
     "output_type": "stream",
     "text": [
      "Using NumPy Version: 1.16.2\n"
     ]
    }
   ],
   "source": [
    "print(\"Using NumPy Version: {}\".format(np.__version__))"
   ]
  },
  {
   "cell_type": "code",
   "execution_count": null,
   "id": "d332c1c8-3d30-45fe-a607-9b1544eb27c9",
   "metadata": {},
   "outputs": [],
   "source": []
  },
  {
   "cell_type": "code",
   "execution_count": null,
   "id": "ec69b97c-1f5d-443d-b491-d4a1901e657d",
   "metadata": {},
   "outputs": [],
   "source": []
  }
 ],
 "metadata": {
  "kernelspec": {
   "display_name": "pytorchenv",
   "language": "python",
   "name": "pytorchenv"
  },
  "language_info": {
   "codemirror_mode": {
    "name": "ipython",
    "version": 3
   },
   "file_extension": ".py",
   "mimetype": "text/x-python",
   "name": "python",
   "nbconvert_exporter": "python",
   "pygments_lexer": "ipython3",
   "version": "3.7.3"
  },
  "toc-autonumbering": false,
  "toc-showmarkdowntxt": false
 },
 "nbformat": 4,
 "nbformat_minor": 5
}
